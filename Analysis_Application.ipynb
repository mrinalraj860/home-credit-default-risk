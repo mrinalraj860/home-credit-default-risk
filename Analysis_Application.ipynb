{
 "cells": [
  {
   "cell_type": "code",
   "execution_count": 2,
   "metadata": {},
   "outputs": [],
   "source": [
    "import pandas as pd \n",
    "import numpy as np "
   ]
  },
  {
   "cell_type": "code",
   "execution_count": 54,
   "metadata": {},
   "outputs": [],
   "source": [
    "applicationTrain = pd.read_csv(\"application_train.csv\")"
   ]
  },
  {
   "cell_type": "code",
   "execution_count": 35,
   "metadata": {},
   "outputs": [],
   "source": [
    "def findNANcol(app_df):\n",
    "    for _ in app_df.columns:\n",
    "        if app_df[_].isna().value_counts().shape[0] > 1:\n",
    "            print(_,\" \", app_df[_].isna().value_counts()[1])"
   ]
  },
  {
   "cell_type": "code",
   "execution_count": 27,
   "metadata": {},
   "outputs": [],
   "source": [
    "def drop_na_rows(df, columns):\n",
    "    return df.dropna(subset=columns)"
   ]
  },
  {
   "cell_type": "code",
   "execution_count": 55,
   "metadata": {},
   "outputs": [],
   "source": [
    "applicationTrain = drop_na_rows(applicationTrain,[\"AMT_ANNUITY\", \"AMT_GOODS_PRICE\", \"NAME_TYPE_SUITE\"])"
   ]
  },
  {
   "cell_type": "code",
   "execution_count": 32,
   "metadata": {},
   "outputs": [
    {
     "data": {
      "text/plain": [
       "0          NaN\n",
       "1          NaN\n",
       "2         26.0\n",
       "3          NaN\n",
       "4          NaN\n",
       "          ... \n",
       "307506     NaN\n",
       "307507     NaN\n",
       "307508     NaN\n",
       "307509     NaN\n",
       "307510     NaN\n",
       "Name: OWN_CAR_AGE, Length: 306207, dtype: float64"
      ]
     },
     "execution_count": 32,
     "metadata": {},
     "output_type": "execute_result"
    }
   ],
   "source": [
    "applicationTrain[\"OWN_CAR_AGE\"]"
   ]
  },
  {
   "cell_type": "code",
   "execution_count": 56,
   "metadata": {},
   "outputs": [
    {
     "name": "stdout",
     "output_type": "stream",
     "text": [
      "OWN_CAR_AGE   104168\n",
      "OCCUPATION_TYPE   96006\n",
      "EXT_SOURCE_1   133559\n",
      "EXT_SOURCE_2   659\n",
      "EXT_SOURCE_3   60750\n",
      "APARTMENTS_AVG   150767\n",
      "BASEMENTAREA_AVG   126977\n",
      "YEARS_BEGINEXPLUATATION_AVG   149416\n",
      "YEARS_BUILD_AVG   102556\n",
      "COMMONAREA_AVG   92227\n",
      "ELEVATORS_AVG   142958\n",
      "ENTRANCES_AVG   151991\n",
      "FLOORSMAX_AVG   152415\n",
      "FLOORSMIN_AVG   98416\n",
      "LANDAREA_AVG   124347\n",
      "LIVINGAPARTMENTS_AVG   96866\n",
      "LIVINGAREA_AVG   152474\n",
      "NONLIVINGAPARTMENTS_AVG   93561\n",
      "NONLIVINGAREA_AVG   137197\n",
      "APARTMENTS_MODE   150767\n",
      "BASEMENTAREA_MODE   126977\n",
      "YEARS_BEGINEXPLUATATION_MODE   149416\n",
      "YEARS_BUILD_MODE   102556\n",
      "COMMONAREA_MODE   92227\n",
      "ELEVATORS_MODE   142958\n",
      "ENTRANCES_MODE   151991\n",
      "FLOORSMAX_MODE   152415\n",
      "FLOORSMIN_MODE   98416\n",
      "LANDAREA_MODE   124347\n",
      "LIVINGAPARTMENTS_MODE   96866\n",
      "LIVINGAREA_MODE   152474\n",
      "NONLIVINGAPARTMENTS_MODE   93561\n",
      "NONLIVINGAREA_MODE   137197\n",
      "APARTMENTS_MEDI   150767\n",
      "BASEMENTAREA_MEDI   126977\n",
      "YEARS_BEGINEXPLUATATION_MEDI   149416\n",
      "YEARS_BUILD_MEDI   102556\n",
      "COMMONAREA_MEDI   92227\n",
      "ELEVATORS_MEDI   142958\n",
      "ENTRANCES_MEDI   151991\n",
      "FLOORSMAX_MEDI   152415\n",
      "FLOORSMIN_MEDI   98416\n",
      "LANDAREA_MEDI   124347\n",
      "LIVINGAPARTMENTS_MEDI   96866\n",
      "LIVINGAREA_MEDI   152474\n",
      "NONLIVINGAPARTMENTS_MEDI   93561\n",
      "NONLIVINGAREA_MEDI   137197\n",
      "FONDKAPREMONT_MODE   96778\n",
      "HOUSETYPE_MODE   152521\n",
      "TOTALAREA_MODE   147846\n",
      "WALLSMATERIAL_MODE   150479\n",
      "EMERGENCYSTATE_MODE   145179\n",
      "OBS_30_CNT_SOCIAL_CIRCLE   1021\n",
      "DEF_30_CNT_SOCIAL_CIRCLE   1021\n",
      "OBS_60_CNT_SOCIAL_CIRCLE   1021\n",
      "DEF_60_CNT_SOCIAL_CIRCLE   1021\n",
      "DAYS_LAST_PHONE_CHANGE   1\n",
      "AMT_REQ_CREDIT_BUREAU_HOUR   41409\n",
      "AMT_REQ_CREDIT_BUREAU_DAY   41409\n",
      "AMT_REQ_CREDIT_BUREAU_WEEK   41409\n",
      "AMT_REQ_CREDIT_BUREAU_MON   41409\n",
      "AMT_REQ_CREDIT_BUREAU_QRT   41409\n",
      "AMT_REQ_CREDIT_BUREAU_YEAR   41409\n"
     ]
    },
    {
     "name": "stderr",
     "output_type": "stream",
     "text": [
      "/var/folders/8g/y90dcmtn1t39t7rwgnkvjspm0000gn/T/ipykernel_54188/1941989999.py:4: FutureWarning: Series.__getitem__ treating keys as positions is deprecated. In a future version, integer keys will always be treated as labels (consistent with DataFrame behavior). To access a value by position, use `ser.iloc[pos]`\n",
      "  print(_,\" \", app_df[_].isna().value_counts()[1])\n"
     ]
    }
   ],
   "source": [
    "findNANcol(applicationTrain)"
   ]
  },
  {
   "cell_type": "code",
   "execution_count": 37,
   "metadata": {},
   "outputs": [
    {
     "data": {
      "text/plain": [
       "OCCUPATION_TYPE\n",
       "Laborers                 54970\n",
       "Sales staff              31957\n",
       "Core staff               27426\n",
       "Managers                 21275\n",
       "Drivers                  18520\n",
       "High skill tech staff    11326\n",
       "Accountants               9768\n",
       "Medicine staff            8504\n",
       "Security staff            6694\n",
       "Cooking staff             5929\n",
       "Cleaning staff            4641\n",
       "Private service staff     2637\n",
       "Low-skill Laborers        2085\n",
       "Waiters/barmen staff      1340\n",
       "Secretaries               1300\n",
       "Realty agents              748\n",
       "HR staff                   559\n",
       "IT staff                   522\n",
       "Name: count, dtype: int64"
      ]
     },
     "execution_count": 37,
     "metadata": {},
     "output_type": "execute_result"
    }
   ],
   "source": [
    "applicationTrain[\"OCCUPATION_TYPE\"].value_counts()"
   ]
  },
  {
   "cell_type": "code",
   "execution_count": 39,
   "metadata": {},
   "outputs": [
    {
     "data": {
      "text/plain": [
       "Index([ 7.0,  6.0,  3.0,  8.0,  2.0,  4.0,  1.0,  9.0, 10.0, 14.0, 13.0, 12.0,\n",
       "       11.0,  5.0, 15.0, 16.0, 17.0, 64.0, 18.0,  0.0, 19.0, 20.0, 21.0, 22.0,\n",
       "       24.0, 23.0, 65.0, 25.0, 26.0, 28.0, 27.0, 29.0, 30.0, 31.0, 32.0, 34.0,\n",
       "       35.0, 33.0, 36.0, 38.0, 40.0, 39.0, 37.0, 41.0, 42.0, 44.0, 43.0, 54.0,\n",
       "       45.0, 49.0, 46.0, 55.0, 51.0, 91.0, 63.0, 56.0, 57.0, 69.0, 50.0, 47.0,\n",
       "       48.0, 52.0],\n",
       "      dtype='float64', name='OWN_CAR_AGE')"
      ]
     },
     "execution_count": 39,
     "metadata": {},
     "output_type": "execute_result"
    }
   ],
   "source": [
    "applicationTrain[\"OWN_CAR_AGE\"].value_counts().index"
   ]
  },
  {
   "cell_type": "code",
   "execution_count": 57,
   "metadata": {},
   "outputs": [
    {
     "name": "stdout",
     "output_type": "stream",
     "text": [
      "NaN values filled with column means:\n",
      "   EXT_SOURCE_1  EXT_SOURCE_2  EXT_SOURCE_3\n",
      "0      0.083037      0.262949      0.139376\n",
      "1      0.311267      0.622246      0.510925\n",
      "2      0.502213      0.555912      0.729567\n",
      "3      0.502213      0.650442      0.510925\n",
      "4      0.502213      0.322738      0.510925\n"
     ]
    }
   ],
   "source": [
    "applicationTrain[\"EXT_SOURCE_1\"] = applicationTrain[\"EXT_SOURCE_1\"].fillna(applicationTrain[\"EXT_SOURCE_1\"].mean())\n",
    "applicationTrain[\"EXT_SOURCE_2\"] = applicationTrain[\"EXT_SOURCE_2\"].fillna(applicationTrain[\"EXT_SOURCE_2\"].mean())\n",
    "applicationTrain[\"EXT_SOURCE_3\"] = applicationTrain[\"EXT_SOURCE_3\"].fillna(applicationTrain[\"EXT_SOURCE_3\"].mean())\n",
    "print(\"NaN values filled with column means:\")\n",
    "print(applicationTrain[[\"EXT_SOURCE_1\", \"EXT_SOURCE_2\", \"EXT_SOURCE_3\"]].head())"
   ]
  },
  {
   "cell_type": "code",
   "execution_count": 58,
   "metadata": {},
   "outputs": [
    {
     "name": "stdout",
     "output_type": "stream",
     "text": [
      "   SK_ID_CURR  TARGET NAME_CONTRACT_TYPE CODE_GENDER FLAG_OWN_CAR  \\\n",
      "0      100002       1         Cash loans           M            N   \n",
      "1      100003       0         Cash loans           F            N   \n",
      "2      100004       0    Revolving loans           M            Y   \n",
      "3      100006       0         Cash loans           F            N   \n",
      "4      100007       0         Cash loans           M            N   \n",
      "\n",
      "  FLAG_OWN_REALTY  CNT_CHILDREN  AMT_INCOME_TOTAL  AMT_CREDIT  AMT_ANNUITY  \\\n",
      "0               Y             0          202500.0    406597.5      24700.5   \n",
      "1               N             0          270000.0   1293502.5      35698.5   \n",
      "2               Y             0           67500.0    135000.0       6750.0   \n",
      "3               Y             0          135000.0    312682.5      29686.5   \n",
      "4               Y             0          121500.0    513000.0      21865.5   \n",
      "\n",
      "   ...  FLAG_DOCUMENT_19 FLAG_DOCUMENT_20 FLAG_DOCUMENT_21  \\\n",
      "0  ...                 0                0                0   \n",
      "1  ...                 0                0                0   \n",
      "2  ...                 0                0                0   \n",
      "3  ...                 0                0                0   \n",
      "4  ...                 0                0                0   \n",
      "\n",
      "  AMT_REQ_CREDIT_BUREAU_HOUR AMT_REQ_CREDIT_BUREAU_DAY  \\\n",
      "0                        0.0                       0.0   \n",
      "1                        0.0                       0.0   \n",
      "2                        0.0                       0.0   \n",
      "3                        NaN                       NaN   \n",
      "4                        0.0                       0.0   \n",
      "\n",
      "  AMT_REQ_CREDIT_BUREAU_WEEK  AMT_REQ_CREDIT_BUREAU_MON  \\\n",
      "0                        0.0                        0.0   \n",
      "1                        0.0                        0.0   \n",
      "2                        0.0                        0.0   \n",
      "3                        NaN                        NaN   \n",
      "4                        0.0                        0.0   \n",
      "\n",
      "   AMT_REQ_CREDIT_BUREAU_QRT  AMT_REQ_CREDIT_BUREAU_YEAR  EXT_SOURCES_MEAN  \n",
      "0                        0.0                         1.0               NaN  \n",
      "1                        0.0                         0.0               NaN  \n",
      "2                        0.0                         0.0               NaN  \n",
      "3                        NaN                         NaN               NaN  \n",
      "4                        0.0                         0.0               NaN  \n",
      "\n",
      "[5 rows x 123 columns]\n"
     ]
    }
   ],
   "source": [
    "applicationTrain[\"EXT_SOURCES_MEAN\"] = applicationTrain[[\"EXT_SOURCE_1\", \"EXT_SOURCE_2\", \"EXT_SOURCE_3\"]].mean()\n",
    "\n",
    "print(applicationTrain.head())"
   ]
  },
  {
   "cell_type": "code",
   "execution_count": 59,
   "metadata": {},
   "outputs": [],
   "source": [
    "applicationTrain = applicationTrain.drop( columns= [\"EXT_SOURCE_1\", \"EXT_SOURCE_2\", \"EXT_SOURCE_3\"])"
   ]
  },
  {
   "cell_type": "code",
   "execution_count": 60,
   "metadata": {},
   "outputs": [
    {
     "name": "stdout",
     "output_type": "stream",
     "text": [
      "OWN_CAR_AGE   104168\n",
      "OCCUPATION_TYPE   96006\n",
      "APARTMENTS_AVG   150767\n",
      "BASEMENTAREA_AVG   126977\n",
      "YEARS_BEGINEXPLUATATION_AVG   149416\n",
      "YEARS_BUILD_AVG   102556\n",
      "COMMONAREA_AVG   92227\n",
      "ELEVATORS_AVG   142958\n",
      "ENTRANCES_AVG   151991\n",
      "FLOORSMAX_AVG   152415\n",
      "FLOORSMIN_AVG   98416\n",
      "LANDAREA_AVG   124347\n",
      "LIVINGAPARTMENTS_AVG   96866\n",
      "LIVINGAREA_AVG   152474\n",
      "NONLIVINGAPARTMENTS_AVG   93561\n",
      "NONLIVINGAREA_AVG   137197\n",
      "APARTMENTS_MODE   150767\n",
      "BASEMENTAREA_MODE   126977\n",
      "YEARS_BEGINEXPLUATATION_MODE   149416\n",
      "YEARS_BUILD_MODE   102556\n",
      "COMMONAREA_MODE   92227\n",
      "ELEVATORS_MODE   142958\n",
      "ENTRANCES_MODE   151991\n",
      "FLOORSMAX_MODE   152415\n",
      "FLOORSMIN_MODE   98416\n",
      "LANDAREA_MODE   124347\n",
      "LIVINGAPARTMENTS_MODE   96866\n",
      "LIVINGAREA_MODE   152474\n",
      "NONLIVINGAPARTMENTS_MODE   93561\n",
      "NONLIVINGAREA_MODE   137197\n",
      "APARTMENTS_MEDI   150767\n",
      "BASEMENTAREA_MEDI   126977\n",
      "YEARS_BEGINEXPLUATATION_MEDI   149416\n",
      "YEARS_BUILD_MEDI   102556\n",
      "COMMONAREA_MEDI   92227\n",
      "ELEVATORS_MEDI   142958\n",
      "ENTRANCES_MEDI   151991\n",
      "FLOORSMAX_MEDI   152415\n",
      "FLOORSMIN_MEDI   98416\n",
      "LANDAREA_MEDI   124347\n",
      "LIVINGAPARTMENTS_MEDI   96866\n",
      "LIVINGAREA_MEDI   152474\n",
      "NONLIVINGAPARTMENTS_MEDI   93561\n",
      "NONLIVINGAREA_MEDI   137197\n",
      "FONDKAPREMONT_MODE   96778\n",
      "HOUSETYPE_MODE   152521\n",
      "TOTALAREA_MODE   147846\n",
      "WALLSMATERIAL_MODE   150479\n",
      "EMERGENCYSTATE_MODE   145179\n",
      "OBS_30_CNT_SOCIAL_CIRCLE   1021\n",
      "DEF_30_CNT_SOCIAL_CIRCLE   1021\n",
      "OBS_60_CNT_SOCIAL_CIRCLE   1021\n",
      "DEF_60_CNT_SOCIAL_CIRCLE   1021\n",
      "DAYS_LAST_PHONE_CHANGE   1\n",
      "AMT_REQ_CREDIT_BUREAU_HOUR   41409\n",
      "AMT_REQ_CREDIT_BUREAU_DAY   41409\n",
      "AMT_REQ_CREDIT_BUREAU_WEEK   41409\n",
      "AMT_REQ_CREDIT_BUREAU_MON   41409\n",
      "AMT_REQ_CREDIT_BUREAU_QRT   41409\n",
      "AMT_REQ_CREDIT_BUREAU_YEAR   41409\n"
     ]
    },
    {
     "name": "stderr",
     "output_type": "stream",
     "text": [
      "/var/folders/8g/y90dcmtn1t39t7rwgnkvjspm0000gn/T/ipykernel_54188/1941989999.py:4: FutureWarning: Series.__getitem__ treating keys as positions is deprecated. In a future version, integer keys will always be treated as labels (consistent with DataFrame behavior). To access a value by position, use `ser.iloc[pos]`\n",
      "  print(_,\" \", app_df[_].isna().value_counts()[1])\n"
     ]
    }
   ],
   "source": [
    "findNANcol(applicationTrain)"
   ]
  },
  {
   "cell_type": "code",
   "execution_count": 61,
   "metadata": {},
   "outputs": [],
   "source": [
    "def fill_na_with_params(df, columns, param=\"others\"):\n",
    "    for column in columns:\n",
    "        df[column] = df[column].fillna(param)\n",
    "    return df\n",
    "applicationTrain = fill_na_with_params(applicationTrain, [\"OWN_CAR_AGE\",\"OCCUPATION_TYPE\"],\"OTHERS\")"
   ]
  },
  {
   "cell_type": "code",
   "execution_count": 62,
   "metadata": {},
   "outputs": [
    {
     "data": {
      "text/plain": [
       "APARTMENTS_AVG\n",
       "0.0825    6636\n",
       "0.0619    6297\n",
       "0.0928    4382\n",
       "0.0722    3966\n",
       "0.0082    3493\n",
       "          ... \n",
       "0.3202       1\n",
       "0.4467       1\n",
       "0.8237       1\n",
       "0.9649       1\n",
       "0.3466       1\n",
       "Name: count, Length: 2338, dtype: int64"
      ]
     },
     "execution_count": 62,
     "metadata": {},
     "output_type": "execute_result"
    }
   ],
   "source": [
    "applicationTrain[\"APARTMENTS_AVG\"].value_counts()"
   ]
  },
  {
   "cell_type": "code",
   "execution_count": 63,
   "metadata": {},
   "outputs": [
    {
     "name": "stdout",
     "output_type": "stream",
     "text": [
      "APARTMENTS_AVG   150767\n",
      "BASEMENTAREA_AVG   126977\n",
      "YEARS_BEGINEXPLUATATION_AVG   149416\n",
      "YEARS_BUILD_AVG   102556\n",
      "COMMONAREA_AVG   92227\n",
      "ELEVATORS_AVG   142958\n",
      "ENTRANCES_AVG   151991\n",
      "FLOORSMAX_AVG   152415\n",
      "FLOORSMIN_AVG   98416\n",
      "LANDAREA_AVG   124347\n",
      "LIVINGAPARTMENTS_AVG   96866\n",
      "LIVINGAREA_AVG   152474\n",
      "NONLIVINGAPARTMENTS_AVG   93561\n",
      "NONLIVINGAREA_AVG   137197\n",
      "APARTMENTS_MODE   150767\n",
      "BASEMENTAREA_MODE   126977\n",
      "YEARS_BEGINEXPLUATATION_MODE   149416\n",
      "YEARS_BUILD_MODE   102556\n",
      "COMMONAREA_MODE   92227\n",
      "ELEVATORS_MODE   142958\n",
      "ENTRANCES_MODE   151991\n",
      "FLOORSMAX_MODE   152415\n",
      "FLOORSMIN_MODE   98416\n",
      "LANDAREA_MODE   124347\n",
      "LIVINGAPARTMENTS_MODE   96866\n",
      "LIVINGAREA_MODE   152474\n",
      "NONLIVINGAPARTMENTS_MODE   93561\n",
      "NONLIVINGAREA_MODE   137197\n",
      "APARTMENTS_MEDI   150767\n",
      "BASEMENTAREA_MEDI   126977\n",
      "YEARS_BEGINEXPLUATATION_MEDI   149416\n",
      "YEARS_BUILD_MEDI   102556\n",
      "COMMONAREA_MEDI   92227\n",
      "ELEVATORS_MEDI   142958\n",
      "ENTRANCES_MEDI   151991\n",
      "FLOORSMAX_MEDI   152415\n",
      "FLOORSMIN_MEDI   98416\n",
      "LANDAREA_MEDI   124347\n",
      "LIVINGAPARTMENTS_MEDI   96866\n",
      "LIVINGAREA_MEDI   152474\n",
      "NONLIVINGAPARTMENTS_MEDI   93561\n",
      "NONLIVINGAREA_MEDI   137197\n",
      "FONDKAPREMONT_MODE   96778\n",
      "HOUSETYPE_MODE   152521\n",
      "TOTALAREA_MODE   147846\n",
      "WALLSMATERIAL_MODE   150479\n",
      "EMERGENCYSTATE_MODE   145179\n",
      "OBS_30_CNT_SOCIAL_CIRCLE   1021\n",
      "DEF_30_CNT_SOCIAL_CIRCLE   1021\n",
      "OBS_60_CNT_SOCIAL_CIRCLE   1021\n",
      "DEF_60_CNT_SOCIAL_CIRCLE   1021\n",
      "DAYS_LAST_PHONE_CHANGE   1\n",
      "AMT_REQ_CREDIT_BUREAU_HOUR   41409\n",
      "AMT_REQ_CREDIT_BUREAU_DAY   41409\n",
      "AMT_REQ_CREDIT_BUREAU_WEEK   41409\n",
      "AMT_REQ_CREDIT_BUREAU_MON   41409\n",
      "AMT_REQ_CREDIT_BUREAU_QRT   41409\n",
      "AMT_REQ_CREDIT_BUREAU_YEAR   41409\n"
     ]
    },
    {
     "name": "stderr",
     "output_type": "stream",
     "text": [
      "/var/folders/8g/y90dcmtn1t39t7rwgnkvjspm0000gn/T/ipykernel_54188/1941989999.py:4: FutureWarning: Series.__getitem__ treating keys as positions is deprecated. In a future version, integer keys will always be treated as labels (consistent with DataFrame behavior). To access a value by position, use `ser.iloc[pos]`\n",
      "  print(_,\" \", app_df[_].isna().value_counts()[1])\n"
     ]
    }
   ],
   "source": [
    "findNANcol(applicationTrain)"
   ]
  },
  {
   "cell_type": "code",
   "execution_count": 67,
   "metadata": {},
   "outputs": [
    {
     "data": {
      "text/plain": [
       "0         0.0247\n",
       "1         0.0959\n",
       "2            NaN\n",
       "3            NaN\n",
       "4            NaN\n",
       "           ...  \n",
       "307506    0.2021\n",
       "307507    0.0247\n",
       "307508    0.1031\n",
       "307509    0.0124\n",
       "307510    0.0742\n",
       "Name: APARTMENTS_AVG, Length: 306207, dtype: float64"
      ]
     },
     "execution_count": 67,
     "metadata": {},
     "output_type": "execute_result"
    }
   ],
   "source": [
    "applicationTrain[\"APARTMENTS_AVG\"]"
   ]
  },
  {
   "cell_type": "code",
   "execution_count": null,
   "metadata": {},
   "outputs": [
    {
     "name": "stdout",
     "output_type": "stream",
     "text": [
      "True\n"
     ]
    }
   ],
   "source": [
    "columns_to_check = [\n",
    "    \"APARTMENTS_AVG\",\n",
    "    \"BASEMENTAREA_AVG\",\n",
    "    \"YEARS_BEGINEXPLUATATION_AVG\",\n",
    "    \"YEARS_BUILD_AVG\",\n",
    "    \"COMMONAREA_AVG\",\n",
    "    \"ELEVATORS_AVG\",\n",
    "    \"ENTRANCES_AVG\",\n",
    "    \"FLOORSMAX_AVG\",\n",
    "    \"FLOORSMIN_AVG\",\n",
    "    \"LANDAREA_AVG\",\n",
    "    \"LIVINGAPARTMENTS_AVG\",\n",
    "    \"LIVINGAREA_AVG\"\n",
    "]\n",
    "\n",
    "all_nan_mask = applicationTrain[columns_to_check].isna().all(axis=1)\n",
    "\n",
    "rows_with_all_nan = applicationTrain.loc[all_nan_mask,columns_to_check].isna().all(axis=1)\n",
    "print(rows_with_all_nan)"
   ]
  },
  {
   "cell_type": "code",
   "execution_count": 74,
   "metadata": {},
   "outputs": [
    {
     "data": {
      "text/plain": [
       "['APARTMENTS_MODE',\n",
       " 'BASEMENTAREA_MODE',\n",
       " 'YEARS_BEGINEXPLUATATION_MODE',\n",
       " 'YEARS_BUILD_MODE',\n",
       " 'COMMONAREA_MODE',\n",
       " 'ELEVATORS_MODE',\n",
       " 'ENTRANCES_MODE',\n",
       " 'FLOORSMAX_MODE',\n",
       " 'FLOORSMIN_MODE',\n",
       " 'LANDAREA_MODE',\n",
       " 'LIVINGAPARTMENTS_MODE',\n",
       " 'LIVINGAREA_MODE',\n",
       " 'NONLIVINGAPARTMENTS_MODE',\n",
       " 'NONLIVINGAREA_MODE',\n",
       " 'FONDKAPREMONT_MODE',\n",
       " 'HOUSETYPE_MODE',\n",
       " 'TOTALAREA_MODE',\n",
       " 'WALLSMATERIAL_MODE',\n",
       " 'EMERGENCYSTATE_MODE']"
      ]
     },
     "execution_count": 74,
     "metadata": {},
     "output_type": "execute_result"
    }
   ],
   "source": [
    "def findCOLWITH_Suffix(df, suffix=\"AVG\"):\n",
    "    li = []\n",
    "    for _ in df.columns:\n",
    "        if _.endswith(suffix):\n",
    "            li.append(_)\n",
    "    return li\n",
    "findCOLWITH_Suffix(applicationTrain,\"MODE\")"
   ]
  },
  {
   "cell_type": "code",
   "execution_count": 75,
   "metadata": {},
   "outputs": [
    {
     "name": "stdout",
     "output_type": "stream",
     "text": [
      "['APARTMENTS_AVG', 'BASEMENTAREA_AVG', 'YEARS_BEGINEXPLUATATION_AVG', 'YEARS_BUILD_AVG', 'COMMONAREA_AVG', 'ELEVATORS_AVG', 'ENTRANCES_AVG', 'FLOORSMAX_AVG', 'FLOORSMIN_AVG', 'LANDAREA_AVG', 'LIVINGAPARTMENTS_AVG', 'LIVINGAREA_AVG', 'NONLIVINGAPARTMENTS_AVG', 'NONLIVINGAREA_AVG', 'APARTMENTS_MODE', 'BASEMENTAREA_MODE', 'YEARS_BEGINEXPLUATATION_MODE', 'YEARS_BUILD_MODE', 'COMMONAREA_MODE', 'ELEVATORS_MODE', 'ENTRANCES_MODE', 'FLOORSMAX_MODE', 'FLOORSMIN_MODE', 'LANDAREA_MODE', 'LIVINGAPARTMENTS_MODE', 'LIVINGAREA_MODE', 'NONLIVINGAPARTMENTS_MODE', 'NONLIVINGAREA_MODE', 'FONDKAPREMONT_MODE', 'HOUSETYPE_MODE', 'TOTALAREA_MODE', 'WALLSMATERIAL_MODE', 'EMERGENCYSTATE_MODE', 'APARTMENTS_MEDI', 'BASEMENTAREA_MEDI', 'YEARS_BEGINEXPLUATATION_MEDI', 'YEARS_BUILD_MEDI', 'COMMONAREA_MEDI', 'ELEVATORS_MEDI', 'ENTRANCES_MEDI', 'FLOORSMAX_MEDI', 'FLOORSMIN_MEDI', 'LANDAREA_MEDI', 'LIVINGAPARTMENTS_MEDI', 'LIVINGAREA_MEDI', 'NONLIVINGAPARTMENTS_MEDI', 'NONLIVINGAREA_MEDI']\n"
     ]
    }
   ],
   "source": [
    "def fill_na_with_zero(df, columns):\n",
    "    for column in columns:\n",
    "        if column in df.columns:\n",
    "            df[column] = df[column].fillna(0)\n",
    "        else:\n",
    "            print(f\"Warning: Column '{column}' does not exist in the DataFrame.\")\n",
    "    return df\n",
    "columns_to_fill = findCOLWITH_Suffix(applicationTrain)\n",
    "columns_to_fill.extend(findCOLWITH_Suffix(applicationTrain, \"MODE\"))\n",
    "columns_to_fill.extend(findCOLWITH_Suffix(applicationTrain, \"MEDI\"))\n",
    "print(columns_to_fill)"
   ]
  },
  {
   "cell_type": "code",
   "execution_count": 77,
   "metadata": {},
   "outputs": [],
   "source": [
    "applicationTrain = fill_na_with_zero(applicationTrain, columns_to_fill)"
   ]
  },
  {
   "cell_type": "code",
   "execution_count": 78,
   "metadata": {},
   "outputs": [
    {
     "name": "stdout",
     "output_type": "stream",
     "text": [
      "OBS_30_CNT_SOCIAL_CIRCLE   1021\n",
      "DEF_30_CNT_SOCIAL_CIRCLE   1021\n",
      "OBS_60_CNT_SOCIAL_CIRCLE   1021\n",
      "DEF_60_CNT_SOCIAL_CIRCLE   1021\n",
      "DAYS_LAST_PHONE_CHANGE   1\n",
      "AMT_REQ_CREDIT_BUREAU_HOUR   41409\n",
      "AMT_REQ_CREDIT_BUREAU_DAY   41409\n",
      "AMT_REQ_CREDIT_BUREAU_WEEK   41409\n",
      "AMT_REQ_CREDIT_BUREAU_MON   41409\n",
      "AMT_REQ_CREDIT_BUREAU_QRT   41409\n",
      "AMT_REQ_CREDIT_BUREAU_YEAR   41409\n"
     ]
    },
    {
     "name": "stderr",
     "output_type": "stream",
     "text": [
      "/var/folders/8g/y90dcmtn1t39t7rwgnkvjspm0000gn/T/ipykernel_54188/1941989999.py:4: FutureWarning: Series.__getitem__ treating keys as positions is deprecated. In a future version, integer keys will always be treated as labels (consistent with DataFrame behavior). To access a value by position, use `ser.iloc[pos]`\n",
      "  print(_,\" \", app_df[_].isna().value_counts()[1])\n"
     ]
    }
   ],
   "source": [
    "findNANcol(applicationTrain)"
   ]
  },
  {
   "cell_type": "code",
   "execution_count": 79,
   "metadata": {},
   "outputs": [],
   "source": [
    "applicationTrain = drop_na_rows(applicationTrain, \"DAYS_LAST_PHONE_CHANGE\")"
   ]
  },
  {
   "cell_type": "code",
   "execution_count": 80,
   "metadata": {},
   "outputs": [
    {
     "name": "stdout",
     "output_type": "stream",
     "text": [
      "OBS_30_CNT_SOCIAL_CIRCLE   1021\n",
      "DEF_30_CNT_SOCIAL_CIRCLE   1021\n",
      "OBS_60_CNT_SOCIAL_CIRCLE   1021\n",
      "DEF_60_CNT_SOCIAL_CIRCLE   1021\n",
      "AMT_REQ_CREDIT_BUREAU_HOUR   41408\n",
      "AMT_REQ_CREDIT_BUREAU_DAY   41408\n",
      "AMT_REQ_CREDIT_BUREAU_WEEK   41408\n",
      "AMT_REQ_CREDIT_BUREAU_MON   41408\n",
      "AMT_REQ_CREDIT_BUREAU_QRT   41408\n",
      "AMT_REQ_CREDIT_BUREAU_YEAR   41408\n"
     ]
    },
    {
     "name": "stderr",
     "output_type": "stream",
     "text": [
      "/var/folders/8g/y90dcmtn1t39t7rwgnkvjspm0000gn/T/ipykernel_54188/1941989999.py:4: FutureWarning: Series.__getitem__ treating keys as positions is deprecated. In a future version, integer keys will always be treated as labels (consistent with DataFrame behavior). To access a value by position, use `ser.iloc[pos]`\n",
      "  print(_,\" \", app_df[_].isna().value_counts()[1])\n"
     ]
    }
   ],
   "source": [
    "findNANcol(applicationTrain)"
   ]
  },
  {
   "cell_type": "code",
   "execution_count": 84,
   "metadata": {},
   "outputs": [
    {
     "data": {
      "text/plain": [
       "0         2.0\n",
       "1         0.0\n",
       "2         0.0\n",
       "3         0.0\n",
       "4         0.0\n",
       "         ... \n",
       "307506    0.0\n",
       "307507    0.0\n",
       "307508    0.0\n",
       "307509    0.0\n",
       "307510    0.0\n",
       "Name: DEF_30_CNT_SOCIAL_CIRCLE, Length: 306206, dtype: float64"
      ]
     },
     "execution_count": 84,
     "metadata": {},
     "output_type": "execute_result"
    }
   ],
   "source": [
    "applicationTrain[\"DEF_30_CNT_SOCIAL_CIRCLE\"]"
   ]
  },
  {
   "cell_type": "code",
   "execution_count": 85,
   "metadata": {},
   "outputs": [
    {
     "name": "stderr",
     "output_type": "stream",
     "text": [
      "/var/folders/8g/y90dcmtn1t39t7rwgnkvjspm0000gn/T/ipykernel_54188/2598779146.py:4: SettingWithCopyWarning: \n",
      "A value is trying to be set on a copy of a slice from a DataFrame.\n",
      "Try using .loc[row_indexer,col_indexer] = value instead\n",
      "\n",
      "See the caveats in the documentation: https://pandas.pydata.org/pandas-docs/stable/user_guide/indexing.html#returning-a-view-versus-a-copy\n",
      "  df[column] = df[column].fillna(value)\n"
     ]
    }
   ],
   "source": [
    "def fill_na_with_customValue(df, columns,value=3):\n",
    "    for column in columns:\n",
    "        if column in df.columns:\n",
    "            df[column] = df[column].fillna(value)\n",
    "        else:\n",
    "            print(f\"Warning: Column '{column}' does not exist in the DataFrame.\")\n",
    "    return df\n",
    "\n",
    "applicationTrain = fill_na_with_customValue(applicationTrain, [\"OBS_30_CNT_SOCIAL_CIRCLE\", \"DEF_30_CNT_SOCIAL_CIRCLE\", \"OBS_60_CNT_SOCIAL_CIRCLE\",\"DEF_60_CNT_SOCIAL_CIRCLE\"])"
   ]
  },
  {
   "cell_type": "code",
   "execution_count": 86,
   "metadata": {},
   "outputs": [
    {
     "name": "stdout",
     "output_type": "stream",
     "text": [
      "AMT_REQ_CREDIT_BUREAU_HOUR   41408\n",
      "AMT_REQ_CREDIT_BUREAU_DAY   41408\n",
      "AMT_REQ_CREDIT_BUREAU_WEEK   41408\n",
      "AMT_REQ_CREDIT_BUREAU_MON   41408\n",
      "AMT_REQ_CREDIT_BUREAU_QRT   41408\n",
      "AMT_REQ_CREDIT_BUREAU_YEAR   41408\n"
     ]
    },
    {
     "name": "stderr",
     "output_type": "stream",
     "text": [
      "/var/folders/8g/y90dcmtn1t39t7rwgnkvjspm0000gn/T/ipykernel_54188/1941989999.py:4: FutureWarning: Series.__getitem__ treating keys as positions is deprecated. In a future version, integer keys will always be treated as labels (consistent with DataFrame behavior). To access a value by position, use `ser.iloc[pos]`\n",
      "  print(_,\" \", app_df[_].isna().value_counts()[1])\n"
     ]
    }
   ],
   "source": [
    "findNANcol(applicationTrain)"
   ]
  },
  {
   "cell_type": "code",
   "execution_count": 88,
   "metadata": {},
   "outputs": [
    {
     "data": {
      "text/plain": [
       "AMT_REQ_CREDIT_BUREAU_YEAR\n",
       "0.0     71132\n",
       "1.0     63198\n",
       "2.0     50050\n",
       "3.0     33553\n",
       "4.0     20665\n",
       "5.0     12032\n",
       "6.0      6952\n",
       "7.0      3859\n",
       "8.0      2125\n",
       "9.0      1092\n",
       "12.0       30\n",
       "11.0       30\n",
       "10.0       22\n",
       "13.0       19\n",
       "14.0       10\n",
       "17.0        7\n",
       "15.0        6\n",
       "19.0        4\n",
       "18.0        4\n",
       "16.0        3\n",
       "25.0        1\n",
       "23.0        1\n",
       "22.0        1\n",
       "21.0        1\n",
       "20.0        1\n",
       "Name: count, dtype: int64"
      ]
     },
     "execution_count": 88,
     "metadata": {},
     "output_type": "execute_result"
    }
   ],
   "source": [
    "applicationTrain[\"AMT_REQ_CREDIT_BUREAU_YEAR\"].value_counts()"
   ]
  },
  {
   "cell_type": "code",
   "execution_count": null,
   "metadata": {},
   "outputs": [],
   "source": []
  },
  {
   "cell_type": "code",
   "execution_count": 89,
   "metadata": {},
   "outputs": [
    {
     "name": "stdout",
     "output_type": "stream",
     "text": [
      "(306206, 120)\n"
     ]
    },
    {
     "name": "stderr",
     "output_type": "stream",
     "text": [
      "/var/folders/8g/y90dcmtn1t39t7rwgnkvjspm0000gn/T/ipykernel_54188/2406482367.py:13: SettingWithCopyWarning: \n",
      "A value is trying to be set on a copy of a slice from a DataFrame.\n",
      "Try using .loc[row_indexer,col_indexer] = value instead\n",
      "\n",
      "See the caveats in the documentation: https://pandas.pydata.org/pandas-docs/stable/user_guide/indexing.html#returning-a-view-versus-a-copy\n",
      "  df[col + \"_QUARTER_NORMALIZED\"] = df[col] / factor\n",
      "/var/folders/8g/y90dcmtn1t39t7rwgnkvjspm0000gn/T/ipykernel_54188/2406482367.py:13: SettingWithCopyWarning: \n",
      "A value is trying to be set on a copy of a slice from a DataFrame.\n",
      "Try using .loc[row_indexer,col_indexer] = value instead\n",
      "\n",
      "See the caveats in the documentation: https://pandas.pydata.org/pandas-docs/stable/user_guide/indexing.html#returning-a-view-versus-a-copy\n",
      "  df[col + \"_QUARTER_NORMALIZED\"] = df[col] / factor\n",
      "/var/folders/8g/y90dcmtn1t39t7rwgnkvjspm0000gn/T/ipykernel_54188/2406482367.py:13: SettingWithCopyWarning: \n",
      "A value is trying to be set on a copy of a slice from a DataFrame.\n",
      "Try using .loc[row_indexer,col_indexer] = value instead\n",
      "\n",
      "See the caveats in the documentation: https://pandas.pydata.org/pandas-docs/stable/user_guide/indexing.html#returning-a-view-versus-a-copy\n",
      "  df[col + \"_QUARTER_NORMALIZED\"] = df[col] / factor\n",
      "/var/folders/8g/y90dcmtn1t39t7rwgnkvjspm0000gn/T/ipykernel_54188/2406482367.py:13: SettingWithCopyWarning: \n",
      "A value is trying to be set on a copy of a slice from a DataFrame.\n",
      "Try using .loc[row_indexer,col_indexer] = value instead\n",
      "\n",
      "See the caveats in the documentation: https://pandas.pydata.org/pandas-docs/stable/user_guide/indexing.html#returning-a-view-versus-a-copy\n",
      "  df[col + \"_QUARTER_NORMALIZED\"] = df[col] / factor\n",
      "/var/folders/8g/y90dcmtn1t39t7rwgnkvjspm0000gn/T/ipykernel_54188/2406482367.py:13: SettingWithCopyWarning: \n",
      "A value is trying to be set on a copy of a slice from a DataFrame.\n",
      "Try using .loc[row_indexer,col_indexer] = value instead\n",
      "\n",
      "See the caveats in the documentation: https://pandas.pydata.org/pandas-docs/stable/user_guide/indexing.html#returning-a-view-versus-a-copy\n",
      "  df[col + \"_QUARTER_NORMALIZED\"] = df[col] / factor\n",
      "/var/folders/8g/y90dcmtn1t39t7rwgnkvjspm0000gn/T/ipykernel_54188/2406482367.py:13: SettingWithCopyWarning: \n",
      "A value is trying to be set on a copy of a slice from a DataFrame.\n",
      "Try using .loc[row_indexer,col_indexer] = value instead\n",
      "\n",
      "See the caveats in the documentation: https://pandas.pydata.org/pandas-docs/stable/user_guide/indexing.html#returning-a-view-versus-a-copy\n",
      "  df[col + \"_QUARTER_NORMALIZED\"] = df[col] / factor\n",
      "/var/folders/8g/y90dcmtn1t39t7rwgnkvjspm0000gn/T/ipykernel_54188/2406482367.py:17: SettingWithCopyWarning: \n",
      "A value is trying to be set on a copy of a slice from a DataFrame.\n",
      "Try using .loc[row_indexer,col_indexer] = value instead\n",
      "\n",
      "See the caveats in the documentation: https://pandas.pydata.org/pandas-docs/stable/user_guide/indexing.html#returning-a-view-versus-a-copy\n",
      "  df[\"AMT_REQ_CREDIT_BUREAU_TOTAL_QUARTER\"] = df[normalized_columns].sum(axis=1)\n"
     ]
    },
    {
     "data": {
      "text/html": [
       "<div>\n",
       "<style scoped>\n",
       "    .dataframe tbody tr th:only-of-type {\n",
       "        vertical-align: middle;\n",
       "    }\n",
       "\n",
       "    .dataframe tbody tr th {\n",
       "        vertical-align: top;\n",
       "    }\n",
       "\n",
       "    .dataframe thead th {\n",
       "        text-align: right;\n",
       "    }\n",
       "</style>\n",
       "<table border=\"1\" class=\"dataframe\">\n",
       "  <thead>\n",
       "    <tr style=\"text-align: right;\">\n",
       "      <th></th>\n",
       "      <th>SK_ID_CURR</th>\n",
       "      <th>TARGET</th>\n",
       "      <th>NAME_CONTRACT_TYPE</th>\n",
       "      <th>CODE_GENDER</th>\n",
       "      <th>FLAG_OWN_CAR</th>\n",
       "      <th>FLAG_OWN_REALTY</th>\n",
       "      <th>CNT_CHILDREN</th>\n",
       "      <th>AMT_INCOME_TOTAL</th>\n",
       "      <th>AMT_CREDIT</th>\n",
       "      <th>AMT_ANNUITY</th>\n",
       "      <th>...</th>\n",
       "      <th>AMT_REQ_CREDIT_BUREAU_QRT</th>\n",
       "      <th>AMT_REQ_CREDIT_BUREAU_YEAR</th>\n",
       "      <th>EXT_SOURCES_MEAN</th>\n",
       "      <th>AMT_REQ_CREDIT_BUREAU_HOUR_QUARTER_NORMALIZED</th>\n",
       "      <th>AMT_REQ_CREDIT_BUREAU_DAY_QUARTER_NORMALIZED</th>\n",
       "      <th>AMT_REQ_CREDIT_BUREAU_WEEK_QUARTER_NORMALIZED</th>\n",
       "      <th>AMT_REQ_CREDIT_BUREAU_MON_QUARTER_NORMALIZED</th>\n",
       "      <th>AMT_REQ_CREDIT_BUREAU_QRT_QUARTER_NORMALIZED</th>\n",
       "      <th>AMT_REQ_CREDIT_BUREAU_YEAR_QUARTER_NORMALIZED</th>\n",
       "      <th>AMT_REQ_CREDIT_BUREAU_TOTAL_QUARTER</th>\n",
       "    </tr>\n",
       "  </thead>\n",
       "  <tbody>\n",
       "    <tr>\n",
       "      <th>0</th>\n",
       "      <td>100002</td>\n",
       "      <td>1</td>\n",
       "      <td>Cash loans</td>\n",
       "      <td>M</td>\n",
       "      <td>N</td>\n",
       "      <td>Y</td>\n",
       "      <td>0</td>\n",
       "      <td>202500.0</td>\n",
       "      <td>406597.5</td>\n",
       "      <td>24700.5</td>\n",
       "      <td>...</td>\n",
       "      <td>0.0</td>\n",
       "      <td>1.0</td>\n",
       "      <td>NaN</td>\n",
       "      <td>0.000000</td>\n",
       "      <td>0.0</td>\n",
       "      <td>0.0</td>\n",
       "      <td>0.000000</td>\n",
       "      <td>0.0</td>\n",
       "      <td>0.25</td>\n",
       "      <td>0.250000</td>\n",
       "    </tr>\n",
       "    <tr>\n",
       "      <th>1</th>\n",
       "      <td>100003</td>\n",
       "      <td>0</td>\n",
       "      <td>Cash loans</td>\n",
       "      <td>F</td>\n",
       "      <td>N</td>\n",
       "      <td>N</td>\n",
       "      <td>0</td>\n",
       "      <td>270000.0</td>\n",
       "      <td>1293502.5</td>\n",
       "      <td>35698.5</td>\n",
       "      <td>...</td>\n",
       "      <td>0.0</td>\n",
       "      <td>0.0</td>\n",
       "      <td>NaN</td>\n",
       "      <td>0.000000</td>\n",
       "      <td>0.0</td>\n",
       "      <td>0.0</td>\n",
       "      <td>0.000000</td>\n",
       "      <td>0.0</td>\n",
       "      <td>0.00</td>\n",
       "      <td>0.000000</td>\n",
       "    </tr>\n",
       "    <tr>\n",
       "      <th>2</th>\n",
       "      <td>100004</td>\n",
       "      <td>0</td>\n",
       "      <td>Revolving loans</td>\n",
       "      <td>M</td>\n",
       "      <td>Y</td>\n",
       "      <td>Y</td>\n",
       "      <td>0</td>\n",
       "      <td>67500.0</td>\n",
       "      <td>135000.0</td>\n",
       "      <td>6750.0</td>\n",
       "      <td>...</td>\n",
       "      <td>0.0</td>\n",
       "      <td>0.0</td>\n",
       "      <td>NaN</td>\n",
       "      <td>0.000000</td>\n",
       "      <td>0.0</td>\n",
       "      <td>0.0</td>\n",
       "      <td>0.000000</td>\n",
       "      <td>0.0</td>\n",
       "      <td>0.00</td>\n",
       "      <td>0.000000</td>\n",
       "    </tr>\n",
       "    <tr>\n",
       "      <th>3</th>\n",
       "      <td>100006</td>\n",
       "      <td>0</td>\n",
       "      <td>Cash loans</td>\n",
       "      <td>F</td>\n",
       "      <td>N</td>\n",
       "      <td>Y</td>\n",
       "      <td>0</td>\n",
       "      <td>135000.0</td>\n",
       "      <td>312682.5</td>\n",
       "      <td>29686.5</td>\n",
       "      <td>...</td>\n",
       "      <td>NaN</td>\n",
       "      <td>NaN</td>\n",
       "      <td>NaN</td>\n",
       "      <td>NaN</td>\n",
       "      <td>NaN</td>\n",
       "      <td>NaN</td>\n",
       "      <td>NaN</td>\n",
       "      <td>NaN</td>\n",
       "      <td>NaN</td>\n",
       "      <td>0.000000</td>\n",
       "    </tr>\n",
       "    <tr>\n",
       "      <th>4</th>\n",
       "      <td>100007</td>\n",
       "      <td>0</td>\n",
       "      <td>Cash loans</td>\n",
       "      <td>M</td>\n",
       "      <td>N</td>\n",
       "      <td>Y</td>\n",
       "      <td>0</td>\n",
       "      <td>121500.0</td>\n",
       "      <td>513000.0</td>\n",
       "      <td>21865.5</td>\n",
       "      <td>...</td>\n",
       "      <td>0.0</td>\n",
       "      <td>0.0</td>\n",
       "      <td>NaN</td>\n",
       "      <td>0.000000</td>\n",
       "      <td>0.0</td>\n",
       "      <td>0.0</td>\n",
       "      <td>0.000000</td>\n",
       "      <td>0.0</td>\n",
       "      <td>0.00</td>\n",
       "      <td>0.000000</td>\n",
       "    </tr>\n",
       "    <tr>\n",
       "      <th>...</th>\n",
       "      <td>...</td>\n",
       "      <td>...</td>\n",
       "      <td>...</td>\n",
       "      <td>...</td>\n",
       "      <td>...</td>\n",
       "      <td>...</td>\n",
       "      <td>...</td>\n",
       "      <td>...</td>\n",
       "      <td>...</td>\n",
       "      <td>...</td>\n",
       "      <td>...</td>\n",
       "      <td>...</td>\n",
       "      <td>...</td>\n",
       "      <td>...</td>\n",
       "      <td>...</td>\n",
       "      <td>...</td>\n",
       "      <td>...</td>\n",
       "      <td>...</td>\n",
       "      <td>...</td>\n",
       "      <td>...</td>\n",
       "      <td>...</td>\n",
       "    </tr>\n",
       "    <tr>\n",
       "      <th>307506</th>\n",
       "      <td>456251</td>\n",
       "      <td>0</td>\n",
       "      <td>Cash loans</td>\n",
       "      <td>M</td>\n",
       "      <td>N</td>\n",
       "      <td>N</td>\n",
       "      <td>0</td>\n",
       "      <td>157500.0</td>\n",
       "      <td>254700.0</td>\n",
       "      <td>27558.0</td>\n",
       "      <td>...</td>\n",
       "      <td>NaN</td>\n",
       "      <td>NaN</td>\n",
       "      <td>NaN</td>\n",
       "      <td>NaN</td>\n",
       "      <td>NaN</td>\n",
       "      <td>NaN</td>\n",
       "      <td>NaN</td>\n",
       "      <td>NaN</td>\n",
       "      <td>NaN</td>\n",
       "      <td>0.000000</td>\n",
       "    </tr>\n",
       "    <tr>\n",
       "      <th>307507</th>\n",
       "      <td>456252</td>\n",
       "      <td>0</td>\n",
       "      <td>Cash loans</td>\n",
       "      <td>F</td>\n",
       "      <td>N</td>\n",
       "      <td>Y</td>\n",
       "      <td>0</td>\n",
       "      <td>72000.0</td>\n",
       "      <td>269550.0</td>\n",
       "      <td>12001.5</td>\n",
       "      <td>...</td>\n",
       "      <td>NaN</td>\n",
       "      <td>NaN</td>\n",
       "      <td>NaN</td>\n",
       "      <td>NaN</td>\n",
       "      <td>NaN</td>\n",
       "      <td>NaN</td>\n",
       "      <td>NaN</td>\n",
       "      <td>NaN</td>\n",
       "      <td>NaN</td>\n",
       "      <td>0.000000</td>\n",
       "    </tr>\n",
       "    <tr>\n",
       "      <th>307508</th>\n",
       "      <td>456253</td>\n",
       "      <td>0</td>\n",
       "      <td>Cash loans</td>\n",
       "      <td>F</td>\n",
       "      <td>N</td>\n",
       "      <td>Y</td>\n",
       "      <td>0</td>\n",
       "      <td>153000.0</td>\n",
       "      <td>677664.0</td>\n",
       "      <td>29979.0</td>\n",
       "      <td>...</td>\n",
       "      <td>0.0</td>\n",
       "      <td>1.0</td>\n",
       "      <td>NaN</td>\n",
       "      <td>0.000457</td>\n",
       "      <td>0.0</td>\n",
       "      <td>0.0</td>\n",
       "      <td>0.333333</td>\n",
       "      <td>0.0</td>\n",
       "      <td>0.25</td>\n",
       "      <td>0.583790</td>\n",
       "    </tr>\n",
       "    <tr>\n",
       "      <th>307509</th>\n",
       "      <td>456254</td>\n",
       "      <td>1</td>\n",
       "      <td>Cash loans</td>\n",
       "      <td>F</td>\n",
       "      <td>N</td>\n",
       "      <td>Y</td>\n",
       "      <td>0</td>\n",
       "      <td>171000.0</td>\n",
       "      <td>370107.0</td>\n",
       "      <td>20205.0</td>\n",
       "      <td>...</td>\n",
       "      <td>0.0</td>\n",
       "      <td>0.0</td>\n",
       "      <td>NaN</td>\n",
       "      <td>0.000000</td>\n",
       "      <td>0.0</td>\n",
       "      <td>0.0</td>\n",
       "      <td>0.000000</td>\n",
       "      <td>0.0</td>\n",
       "      <td>0.00</td>\n",
       "      <td>0.000000</td>\n",
       "    </tr>\n",
       "    <tr>\n",
       "      <th>307510</th>\n",
       "      <td>456255</td>\n",
       "      <td>0</td>\n",
       "      <td>Cash loans</td>\n",
       "      <td>F</td>\n",
       "      <td>N</td>\n",
       "      <td>N</td>\n",
       "      <td>0</td>\n",
       "      <td>157500.0</td>\n",
       "      <td>675000.0</td>\n",
       "      <td>49117.5</td>\n",
       "      <td>...</td>\n",
       "      <td>0.0</td>\n",
       "      <td>1.0</td>\n",
       "      <td>NaN</td>\n",
       "      <td>0.000000</td>\n",
       "      <td>0.0</td>\n",
       "      <td>0.0</td>\n",
       "      <td>0.666667</td>\n",
       "      <td>0.0</td>\n",
       "      <td>0.25</td>\n",
       "      <td>0.916667</td>\n",
       "    </tr>\n",
       "  </tbody>\n",
       "</table>\n",
       "<p>306206 rows × 127 columns</p>\n",
       "</div>"
      ],
      "text/plain": [
       "        SK_ID_CURR  TARGET NAME_CONTRACT_TYPE CODE_GENDER FLAG_OWN_CAR  \\\n",
       "0           100002       1         Cash loans           M            N   \n",
       "1           100003       0         Cash loans           F            N   \n",
       "2           100004       0    Revolving loans           M            Y   \n",
       "3           100006       0         Cash loans           F            N   \n",
       "4           100007       0         Cash loans           M            N   \n",
       "...            ...     ...                ...         ...          ...   \n",
       "307506      456251       0         Cash loans           M            N   \n",
       "307507      456252       0         Cash loans           F            N   \n",
       "307508      456253       0         Cash loans           F            N   \n",
       "307509      456254       1         Cash loans           F            N   \n",
       "307510      456255       0         Cash loans           F            N   \n",
       "\n",
       "       FLAG_OWN_REALTY  CNT_CHILDREN  AMT_INCOME_TOTAL  AMT_CREDIT  \\\n",
       "0                    Y             0          202500.0    406597.5   \n",
       "1                    N             0          270000.0   1293502.5   \n",
       "2                    Y             0           67500.0    135000.0   \n",
       "3                    Y             0          135000.0    312682.5   \n",
       "4                    Y             0          121500.0    513000.0   \n",
       "...                ...           ...               ...         ...   \n",
       "307506               N             0          157500.0    254700.0   \n",
       "307507               Y             0           72000.0    269550.0   \n",
       "307508               Y             0          153000.0    677664.0   \n",
       "307509               Y             0          171000.0    370107.0   \n",
       "307510               N             0          157500.0    675000.0   \n",
       "\n",
       "        AMT_ANNUITY  ...  AMT_REQ_CREDIT_BUREAU_QRT  \\\n",
       "0           24700.5  ...                        0.0   \n",
       "1           35698.5  ...                        0.0   \n",
       "2            6750.0  ...                        0.0   \n",
       "3           29686.5  ...                        NaN   \n",
       "4           21865.5  ...                        0.0   \n",
       "...             ...  ...                        ...   \n",
       "307506      27558.0  ...                        NaN   \n",
       "307507      12001.5  ...                        NaN   \n",
       "307508      29979.0  ...                        0.0   \n",
       "307509      20205.0  ...                        0.0   \n",
       "307510      49117.5  ...                        0.0   \n",
       "\n",
       "       AMT_REQ_CREDIT_BUREAU_YEAR EXT_SOURCES_MEAN  \\\n",
       "0                             1.0              NaN   \n",
       "1                             0.0              NaN   \n",
       "2                             0.0              NaN   \n",
       "3                             NaN              NaN   \n",
       "4                             0.0              NaN   \n",
       "...                           ...              ...   \n",
       "307506                        NaN              NaN   \n",
       "307507                        NaN              NaN   \n",
       "307508                        1.0              NaN   \n",
       "307509                        0.0              NaN   \n",
       "307510                        1.0              NaN   \n",
       "\n",
       "       AMT_REQ_CREDIT_BUREAU_HOUR_QUARTER_NORMALIZED  \\\n",
       "0                                           0.000000   \n",
       "1                                           0.000000   \n",
       "2                                           0.000000   \n",
       "3                                                NaN   \n",
       "4                                           0.000000   \n",
       "...                                              ...   \n",
       "307506                                           NaN   \n",
       "307507                                           NaN   \n",
       "307508                                      0.000457   \n",
       "307509                                      0.000000   \n",
       "307510                                      0.000000   \n",
       "\n",
       "       AMT_REQ_CREDIT_BUREAU_DAY_QUARTER_NORMALIZED  \\\n",
       "0                                               0.0   \n",
       "1                                               0.0   \n",
       "2                                               0.0   \n",
       "3                                               NaN   \n",
       "4                                               0.0   \n",
       "...                                             ...   \n",
       "307506                                          NaN   \n",
       "307507                                          NaN   \n",
       "307508                                          0.0   \n",
       "307509                                          0.0   \n",
       "307510                                          0.0   \n",
       "\n",
       "       AMT_REQ_CREDIT_BUREAU_WEEK_QUARTER_NORMALIZED  \\\n",
       "0                                                0.0   \n",
       "1                                                0.0   \n",
       "2                                                0.0   \n",
       "3                                                NaN   \n",
       "4                                                0.0   \n",
       "...                                              ...   \n",
       "307506                                           NaN   \n",
       "307507                                           NaN   \n",
       "307508                                           0.0   \n",
       "307509                                           0.0   \n",
       "307510                                           0.0   \n",
       "\n",
       "        AMT_REQ_CREDIT_BUREAU_MON_QUARTER_NORMALIZED  \\\n",
       "0                                           0.000000   \n",
       "1                                           0.000000   \n",
       "2                                           0.000000   \n",
       "3                                                NaN   \n",
       "4                                           0.000000   \n",
       "...                                              ...   \n",
       "307506                                           NaN   \n",
       "307507                                           NaN   \n",
       "307508                                      0.333333   \n",
       "307509                                      0.000000   \n",
       "307510                                      0.666667   \n",
       "\n",
       "        AMT_REQ_CREDIT_BUREAU_QRT_QUARTER_NORMALIZED  \\\n",
       "0                                                0.0   \n",
       "1                                                0.0   \n",
       "2                                                0.0   \n",
       "3                                                NaN   \n",
       "4                                                0.0   \n",
       "...                                              ...   \n",
       "307506                                           NaN   \n",
       "307507                                           NaN   \n",
       "307508                                           0.0   \n",
       "307509                                           0.0   \n",
       "307510                                           0.0   \n",
       "\n",
       "        AMT_REQ_CREDIT_BUREAU_YEAR_QUARTER_NORMALIZED  \\\n",
       "0                                                0.25   \n",
       "1                                                0.00   \n",
       "2                                                0.00   \n",
       "3                                                 NaN   \n",
       "4                                                0.00   \n",
       "...                                               ...   \n",
       "307506                                            NaN   \n",
       "307507                                            NaN   \n",
       "307508                                           0.25   \n",
       "307509                                           0.00   \n",
       "307510                                           0.25   \n",
       "\n",
       "        AMT_REQ_CREDIT_BUREAU_TOTAL_QUARTER  \n",
       "0                                  0.250000  \n",
       "1                                  0.000000  \n",
       "2                                  0.000000  \n",
       "3                                  0.000000  \n",
       "4                                  0.000000  \n",
       "...                                     ...  \n",
       "307506                             0.000000  \n",
       "307507                             0.000000  \n",
       "307508                             0.583790  \n",
       "307509                             0.000000  \n",
       "307510                             0.916667  \n",
       "\n",
       "[306206 rows x 127 columns]"
      ]
     },
     "execution_count": 89,
     "metadata": {},
     "output_type": "execute_result"
    }
   ],
   "source": [
    "def normalize_to_quarters_and_combine(df):\n",
    "    normalization_factors = {\n",
    "        \"AMT_REQ_CREDIT_BUREAU_HOUR\": 8760 / 4,  # Hours in a quarter\n",
    "        \"AMT_REQ_CREDIT_BUREAU_DAY\": 365 / 4,    # Days in a quarter\n",
    "        \"AMT_REQ_CREDIT_BUREAU_WEEK\": 52 / 4,    # Weeks in a quarter\n",
    "        \"AMT_REQ_CREDIT_BUREAU_MON\": 3,          # Months in a quarter\n",
    "        \"AMT_REQ_CREDIT_BUREAU_QRT\": 1,          # Already in quarters\n",
    "        \"AMT_REQ_CREDIT_BUREAU_YEAR\": 4          # Quarters in a year\n",
    "    }\n",
    "\n",
    "    for col, factor in normalization_factors.items():\n",
    "        if col in df.columns:\n",
    "            df[col + \"_QUARTER_NORMALIZED\"] = df[col] / factor\n",
    "\n",
    "    # Combine normalized columns\n",
    "    normalized_columns = [col + \"_QUARTER_NORMALIZED\" for col in normalization_factors.keys() if col in df.columns]\n",
    "    df[\"AMT_REQ_CREDIT_BUREAU_TOTAL_QUARTER\"] = df[normalized_columns].sum(axis=1)\n",
    "\n",
    "    # Optionally, drop intermediate normalized columns\n",
    "    # df.drop(columns=normalized_columns, inplace=True)\n",
    "\n",
    "    return df\n",
    "print(applicationTrain.shape)\n",
    "normalize_to_quarters_and_combine(applicationTrain)"
   ]
  },
  {
   "cell_type": "code",
   "execution_count": null,
   "metadata": {},
   "outputs": [],
   "source": []
  }
 ],
 "metadata": {
  "kernelspec": {
   "display_name": "Python 3",
   "language": "python",
   "name": "python3"
  },
  "language_info": {
   "codemirror_mode": {
    "name": "ipython",
    "version": 3
   },
   "file_extension": ".py",
   "mimetype": "text/x-python",
   "name": "python",
   "nbconvert_exporter": "python",
   "pygments_lexer": "ipython3",
   "version": "3.12.5"
  }
 },
 "nbformat": 4,
 "nbformat_minor": 2
}
