{
 "cells": [
  {
   "cell_type": "code",
   "execution_count": 28,
   "metadata": {},
   "outputs": [],
   "source": [
    "import pandas as pd \n",
    "import numpy as np \n",
    "import sys"
   ]
  },
  {
   "cell_type": "code",
   "execution_count": 29,
   "metadata": {},
   "outputs": [
    {
     "name": "stdout",
     "output_type": "stream",
     "text": [
      "(307511, 122) \n",
      " Index(['SK_ID_CURR', 'TARGET', 'NAME_CONTRACT_TYPE', 'CODE_GENDER',\n",
      "       'FLAG_OWN_CAR', 'FLAG_OWN_REALTY', 'CNT_CHILDREN', 'AMT_INCOME_TOTAL',\n",
      "       'AMT_CREDIT', 'AMT_ANNUITY',\n",
      "       ...\n",
      "       'FLAG_DOCUMENT_18', 'FLAG_DOCUMENT_19', 'FLAG_DOCUMENT_20',\n",
      "       'FLAG_DOCUMENT_21', 'AMT_REQ_CREDIT_BUREAU_HOUR',\n",
      "       'AMT_REQ_CREDIT_BUREAU_DAY', 'AMT_REQ_CREDIT_BUREAU_WEEK',\n",
      "       'AMT_REQ_CREDIT_BUREAU_MON', 'AMT_REQ_CREDIT_BUREAU_QRT',\n",
      "       'AMT_REQ_CREDIT_BUREAU_YEAR'],\n",
      "      dtype='object', length=122)\n",
      "(122,)\n",
      "AMT_ANNUITY   12\n",
      "AMT_GOODS_PRICE   278\n",
      "NAME_TYPE_SUITE   1292\n",
      "OWN_CAR_AGE   104582\n",
      "OCCUPATION_TYPE   96391\n",
      "CNT_FAM_MEMBERS   2\n",
      "EXT_SOURCE_1   134133\n",
      "EXT_SOURCE_2   660\n",
      "EXT_SOURCE_3   60965\n",
      "APARTMENTS_AVG   151450\n",
      "BASEMENTAREA_AVG   127568\n",
      "YEARS_BEGINEXPLUATATION_AVG   150007\n",
      "YEARS_BUILD_AVG   103023\n",
      "COMMONAREA_AVG   92646\n",
      "ELEVATORS_AVG   143620\n",
      "ENTRANCES_AVG   152683\n",
      "FLOORSMAX_AVG   153020\n",
      "FLOORSMIN_AVG   98869\n",
      "LANDAREA_AVG   124921\n",
      "LIVINGAPARTMENTS_AVG   97312\n",
      "LIVINGAREA_AVG   153161\n",
      "NONLIVINGAPARTMENTS_AVG   93997\n",
      "NONLIVINGAREA_AVG   137829\n",
      "APARTMENTS_MODE   151450\n",
      "BASEMENTAREA_MODE   127568\n",
      "YEARS_BEGINEXPLUATATION_MODE   150007\n",
      "YEARS_BUILD_MODE   103023\n",
      "COMMONAREA_MODE   92646\n",
      "ELEVATORS_MODE   143620\n",
      "ENTRANCES_MODE   152683\n",
      "FLOORSMAX_MODE   153020\n",
      "FLOORSMIN_MODE   98869\n",
      "LANDAREA_MODE   124921\n",
      "LIVINGAPARTMENTS_MODE   97312\n",
      "LIVINGAREA_MODE   153161\n",
      "NONLIVINGAPARTMENTS_MODE   93997\n",
      "NONLIVINGAREA_MODE   137829\n",
      "APARTMENTS_MEDI   151450\n",
      "BASEMENTAREA_MEDI   127568\n",
      "YEARS_BEGINEXPLUATATION_MEDI   150007\n",
      "YEARS_BUILD_MEDI   103023\n",
      "COMMONAREA_MEDI   92646\n",
      "ELEVATORS_MEDI   143620\n",
      "ENTRANCES_MEDI   152683\n",
      "FLOORSMAX_MEDI   153020\n",
      "FLOORSMIN_MEDI   98869\n",
      "LANDAREA_MEDI   124921\n",
      "LIVINGAPARTMENTS_MEDI   97312\n",
      "LIVINGAREA_MEDI   153161\n",
      "NONLIVINGAPARTMENTS_MEDI   93997\n",
      "NONLIVINGAREA_MEDI   137829\n",
      "FONDKAPREMONT_MODE   97216\n",
      "HOUSETYPE_MODE   153214\n",
      "TOTALAREA_MODE   148431\n",
      "WALLSMATERIAL_MODE   151170\n",
      "EMERGENCYSTATE_MODE   145755\n"
     ]
    },
    {
     "name": "stderr",
     "output_type": "stream",
     "text": [
      "/var/folders/8g/y90dcmtn1t39t7rwgnkvjspm0000gn/T/ipykernel_51759/3073217966.py:9: FutureWarning: Series.__getitem__ treating keys as positions is deprecated. In a future version, integer keys will always be treated as labels (consistent with DataFrame behavior). To access a value by position, use `ser.iloc[pos]`\n",
      "  print(_,\" \", app_df[_].isna().value_counts()[1])\n"
     ]
    },
    {
     "name": "stdout",
     "output_type": "stream",
     "text": [
      "OBS_30_CNT_SOCIAL_CIRCLE   1021\n",
      "DEF_30_CNT_SOCIAL_CIRCLE   1021\n",
      "OBS_60_CNT_SOCIAL_CIRCLE   1021\n",
      "DEF_60_CNT_SOCIAL_CIRCLE   1021\n",
      "DAYS_LAST_PHONE_CHANGE   1\n",
      "AMT_REQ_CREDIT_BUREAU_HOUR   41519\n",
      "AMT_REQ_CREDIT_BUREAU_DAY   41519\n",
      "AMT_REQ_CREDIT_BUREAU_WEEK   41519\n",
      "AMT_REQ_CREDIT_BUREAU_MON   41519\n",
      "AMT_REQ_CREDIT_BUREAU_QRT   41519\n",
      "AMT_REQ_CREDIT_BUREAU_YEAR   41519\n",
      "Number of Columns having NAN value is:  67\n"
     ]
    }
   ],
   "source": [
    "app_df = pd.read_csv(\"application_train.csv\")\n",
    "Nan_train = []\n",
    "print(app_df.shape, \"\\n\",app_df.columns)\n",
    "print(app_df.columns.shape)\n",
    "count = 0\n",
    "for _ in app_df.columns:\n",
    "    if app_df[_].isna().value_counts().shape[0] > 1:\n",
    "        count = count + 1\n",
    "        print(_,\" \", app_df[_].isna().value_counts()[1])\n",
    "        Nan_train.append(_)\n",
    "print(\"Number of Columns having NAN value is: \", count)\n"
   ]
  },
  {
   "cell_type": "code",
   "execution_count": 16,
   "metadata": {},
   "outputs": [],
   "source": [
    "del app_df"
   ]
  },
  {
   "cell_type": "code",
   "execution_count": 17,
   "metadata": {},
   "outputs": [
    {
     "name": "stdout",
     "output_type": "stream",
     "text": [
      "(48744, 121) \n",
      " Index(['SK_ID_CURR', 'NAME_CONTRACT_TYPE', 'CODE_GENDER', 'FLAG_OWN_CAR',\n",
      "       'FLAG_OWN_REALTY', 'CNT_CHILDREN', 'AMT_INCOME_TOTAL', 'AMT_CREDIT',\n",
      "       'AMT_ANNUITY', 'AMT_GOODS_PRICE',\n",
      "       ...\n",
      "       'FLAG_DOCUMENT_18', 'FLAG_DOCUMENT_19', 'FLAG_DOCUMENT_20',\n",
      "       'FLAG_DOCUMENT_21', 'AMT_REQ_CREDIT_BUREAU_HOUR',\n",
      "       'AMT_REQ_CREDIT_BUREAU_DAY', 'AMT_REQ_CREDIT_BUREAU_WEEK',\n",
      "       'AMT_REQ_CREDIT_BUREAU_MON', 'AMT_REQ_CREDIT_BUREAU_QRT',\n",
      "       'AMT_REQ_CREDIT_BUREAU_YEAR'],\n",
      "      dtype='object', length=121)\n",
      "(121,)\n",
      "AMT_ANNUITY   24\n",
      "NAME_TYPE_SUITE   911\n",
      "OWN_CAR_AGE   16432\n",
      "OCCUPATION_TYPE   15605\n",
      "EXT_SOURCE_1   20532\n",
      "EXT_SOURCE_2   8\n",
      "EXT_SOURCE_3   8668\n",
      "APARTMENTS_AVG   23887\n",
      "BASEMENTAREA_AVG   21103\n",
      "YEARS_BEGINEXPLUATATION_AVG   22856\n",
      "YEARS_BUILD_AVG   16926\n",
      "COMMONAREA_AVG   15249\n",
      "ELEVATORS_AVG   23555\n",
      "ENTRANCES_AVG   23579\n",
      "FLOORSMAX_AVG   23321\n",
      "FLOORSMIN_AVG   16278\n",
      "LANDAREA_AVG   20490\n",
      "LIVINGAPARTMENTS_AVG   15964\n",
      "LIVINGAREA_AVG   23552\n",
      "NONLIVINGAPARTMENTS_AVG   15397\n",
      "NONLIVINGAREA_AVG   22660\n",
      "APARTMENTS_MODE   23887\n",
      "BASEMENTAREA_MODE   21103\n",
      "YEARS_BEGINEXPLUATATION_MODE   22856\n",
      "YEARS_BUILD_MODE   16926\n",
      "COMMONAREA_MODE   15249\n",
      "ELEVATORS_MODE   23555\n",
      "ENTRANCES_MODE   23579\n",
      "FLOORSMAX_MODE   23321\n",
      "FLOORSMIN_MODE   16278\n",
      "LANDAREA_MODE   20490\n",
      "LIVINGAPARTMENTS_MODE   15964\n",
      "LIVINGAREA_MODE   23552\n",
      "NONLIVINGAPARTMENTS_MODE   15397\n",
      "NONLIVINGAREA_MODE   22660\n",
      "APARTMENTS_MEDI   23887\n",
      "BASEMENTAREA_MEDI   21103\n",
      "YEARS_BEGINEXPLUATATION_MEDI   22856\n",
      "YEARS_BUILD_MEDI   16926\n",
      "COMMONAREA_MEDI   15249\n",
      "ELEVATORS_MEDI   23555\n",
      "ENTRANCES_MEDI   23579\n",
      "FLOORSMAX_MEDI   23321\n",
      "FLOORSMIN_MEDI   16278\n",
      "LANDAREA_MEDI   20490\n",
      "LIVINGAPARTMENTS_MEDI   15964\n",
      "LIVINGAREA_MEDI   23552\n",
      "NONLIVINGAPARTMENTS_MEDI   15397\n",
      "NONLIVINGAREA_MEDI   22660\n",
      "FONDKAPREMONT_MODE   15947\n",
      "HOUSETYPE_MODE   23619\n",
      "TOTALAREA_MODE   22624\n",
      "WALLSMATERIAL_MODE   23893\n",
      "EMERGENCYSTATE_MODE   22209\n",
      "OBS_30_CNT_SOCIAL_CIRCLE   29\n",
      "DEF_30_CNT_SOCIAL_CIRCLE   29\n",
      "OBS_60_CNT_SOCIAL_CIRCLE   29\n",
      "DEF_60_CNT_SOCIAL_CIRCLE   29\n",
      "AMT_REQ_CREDIT_BUREAU_HOUR   6049\n",
      "AMT_REQ_CREDIT_BUREAU_DAY   6049\n",
      "AMT_REQ_CREDIT_BUREAU_WEEK   6049\n",
      "AMT_REQ_CREDIT_BUREAU_MON   6049\n",
      "AMT_REQ_CREDIT_BUREAU_QRT   6049\n",
      "AMT_REQ_CREDIT_BUREAU_YEAR   6049\n",
      "Number of Columns having NAN value is:  64\n"
     ]
    },
    {
     "name": "stderr",
     "output_type": "stream",
     "text": [
      "/var/folders/8g/y90dcmtn1t39t7rwgnkvjspm0000gn/T/ipykernel_50812/2689576865.py:9: FutureWarning: Series.__getitem__ treating keys as positions is deprecated. In a future version, integer keys will always be treated as labels (consistent with DataFrame behavior). To access a value by position, use `ser.iloc[pos]`\n",
      "  print(_,\" \", app_df[_].isna().value_counts()[1])\n"
     ]
    }
   ],
   "source": [
    "app_df = pd.read_csv(\"application_test.csv\")\n",
    "Nan_test = []\n",
    "print(app_df.shape, \"\\n\",app_df.columns)\n",
    "print(app_df.columns.shape)\n",
    "count = 0\n",
    "for _ in app_df.columns:\n",
    "    if app_df[_].isna().value_counts().shape[0] > 1:\n",
    "        count = count + 1\n",
    "        print(_,\" \", app_df[_].isna().value_counts()[1])\n",
    "        Nan_test.append(_)\n",
    "print(\"Number of Columns having NAN value is: \", count)"
   ]
  },
  {
   "cell_type": "code",
   "execution_count": 21,
   "metadata": {},
   "outputs": [
    {
     "name": "stdout",
     "output_type": "stream",
     "text": [
      "AMT_GOODS_PRICE\n",
      "Not in LiA:  AMT_GOODS_PRICE\n",
      "CNT_FAM_MEMBERS\n",
      "Not in LiA:  CNT_FAM_MEMBERS\n",
      "DAYS_LAST_PHONE_CHANGE\n",
      "Not in LiA:  DAYS_LAST_PHONE_CHANGE\n",
      "{'CNT_FAM_MEMBERS', 'AMT_GOODS_PRICE', 'DAYS_LAST_PHONE_CHANGE'}\n"
     ]
    }
   ],
   "source": [
    "def NotCommonInList(LiA, LiB):\n",
    "    result = set()\n",
    "    for _ in LiA:\n",
    "        if(_ not in LiB):\n",
    "            print(_)\n",
    "            result.add(_)\n",
    "            print(\"Not in LiB: \", _ )\n",
    "    for _ in LiB:\n",
    "        if(_ not in LiA):\n",
    "            print(_)\n",
    "            result.add(_)\n",
    "            print(\"Not in LiA: \", _ )\n",
    "    return result\n",
    "print(NotCommonInList(Nan_test,Nan_train))"
   ]
  },
  {
   "cell_type": "markdown",
   "metadata": {},
   "source": [
    "Now It means if we drop columns from application_train It will autometically drop all columns for "
   ]
  },
  {
   "cell_type": "code",
   "execution_count": 4,
   "metadata": {},
   "outputs": [],
   "source": [
    "import matplotlib.pyplot as plt\n"
   ]
  },
  {
   "cell_type": "code",
   "execution_count": null,
   "metadata": {},
   "outputs": [],
   "source": [
    "bureau_data = pd.read_csv(\"bureau.csv\")\n",
    "bureau_bal = pd.read_csv(\"bureau_balance.csv\")"
   ]
  },
  {
   "cell_type": "code",
   "execution_count": 32,
   "metadata": {},
   "outputs": [
    {
     "data": {
      "text/plain": [
       "24825"
      ]
     },
     "execution_count": 32,
     "metadata": {},
     "output_type": "execute_result"
    }
   ],
   "source": [
    "app_df[\"TARGET\"].value_counts()[1]"
   ]
  },
  {
   "cell_type": "markdown",
   "metadata": {},
   "source": [
    "bureau_balance.csv\tSTATUS\t*Status* of Credit Bureau loan during the month (active, closed, DPD0-30,Ö \n",
    "[C means closed, \n",
    "X means status unknown, \n",
    "0 means no DPD, \n",
    "1 means maximal did during month between 1-30, \n",
    "2 means DPD 31-60,\n",
    "5 means DPD 120+ or sold or written off ] )\t"
   ]
  },
  {
   "cell_type": "code",
   "execution_count": 14,
   "metadata": {},
   "outputs": [
    {
     "name": "stdout",
     "output_type": "stream",
     "text": [
      "Index(['SK_ID_BUREAU', 'MONTHS_BALANCE', 'STATUS'], dtype='object')\n",
      "(27299925, 3)\n",
      "817395\n",
      "STATUS\n",
      "C    13646993\n",
      "0     7499507\n",
      "X     5810482\n",
      "1      242347\n",
      "5       62406\n",
      "2       23419\n",
      "3        8924\n",
      "4        5847\n",
      "Name: count, dtype: int64\n"
     ]
    }
   ],
   "source": [
    "print(bureau_bal.columns)\n",
    "print(bureau_bal.shape)\n",
    "print(bureau_bal['SK_ID_BUREAU'].nunique())\n",
    "print(bureau_bal['STATUS'].value_counts())"
   ]
  },
  {
   "cell_type": "code",
   "execution_count": 13,
   "metadata": {},
   "outputs": [
    {
     "name": "stdout",
     "output_type": "stream",
     "text": [
      "Index(['SK_ID_CURR', 'SK_ID_BUREAU', 'CREDIT_ACTIVE', 'CREDIT_CURRENCY',\n",
      "       'DAYS_CREDIT', 'CREDIT_DAY_OVERDUE', 'DAYS_CREDIT_ENDDATE',\n",
      "       'DAYS_ENDDATE_FACT', 'AMT_CREDIT_MAX_OVERDUE', 'CNT_CREDIT_PROLONG',\n",
      "       'AMT_CREDIT_SUM', 'AMT_CREDIT_SUM_DEBT', 'AMT_CREDIT_SUM_LIMIT',\n",
      "       'AMT_CREDIT_SUM_OVERDUE', 'CREDIT_TYPE', 'DAYS_CREDIT_UPDATE',\n",
      "       'AMT_ANNUITY'],\n",
      "      dtype='object')\n",
      "(1716428, 17)\n",
      "SK_ID_CURR:  305811\n",
      "SK_ID_BUREAU:  1716428\n"
     ]
    }
   ],
   "source": [
    "print(bureau_data.columns)\n",
    "print(bureau_data.shape)\n",
    "print(\"SK_ID_CURR: \", bureau_data['SK_ID_CURR'].nunique())\n",
    "print(\"SK_ID_BUREAU: \", bureau_data['SK_ID_BUREAU'].nunique())"
   ]
  },
  {
   "cell_type": "code",
   "execution_count": 15,
   "metadata": {},
   "outputs": [
    {
     "name": "stdout",
     "output_type": "stream",
     "text": [
      "Index(['SK_ID_PREV', 'SK_ID_CURR', 'MONTHS_BALANCE', 'AMT_BALANCE',\n",
      "       'AMT_CREDIT_LIMIT_ACTUAL', 'AMT_DRAWINGS_ATM_CURRENT',\n",
      "       'AMT_DRAWINGS_CURRENT', 'AMT_DRAWINGS_OTHER_CURRENT',\n",
      "       'AMT_DRAWINGS_POS_CURRENT', 'AMT_INST_MIN_REGULARITY',\n",
      "       'AMT_PAYMENT_CURRENT', 'AMT_PAYMENT_TOTAL_CURRENT',\n",
      "       'AMT_RECEIVABLE_PRINCIPAL', 'AMT_RECIVABLE', 'AMT_TOTAL_RECEIVABLE',\n",
      "       'CNT_DRAWINGS_ATM_CURRENT', 'CNT_DRAWINGS_CURRENT',\n",
      "       'CNT_DRAWINGS_OTHER_CURRENT', 'CNT_DRAWINGS_POS_CURRENT',\n",
      "       'CNT_INSTALMENT_MATURE_CUM', 'NAME_CONTRACT_STATUS', 'SK_DPD',\n",
      "       'SK_DPD_DEF'],\n",
      "      dtype='object')\n"
     ]
    }
   ],
   "source": [
    "creditCardBal = pd.read_csv(\"credit_card_balance.csv\")\n",
    "print(creditCardBal.columns)"
   ]
  },
  {
   "cell_type": "code",
   "execution_count": 17,
   "metadata": {},
   "outputs": [
    {
     "name": "stdout",
     "output_type": "stream",
     "text": [
      "Index(['SK_ID_PREV', 'SK_ID_CURR', 'NUM_INSTALMENT_VERSION',\n",
      "       'NUM_INSTALMENT_NUMBER', 'DAYS_INSTALMENT', 'DAYS_ENTRY_PAYMENT',\n",
      "       'AMT_INSTALMENT', 'AMT_PAYMENT'],\n",
      "      dtype='object')\n",
      "(13605401, 8)\n"
     ]
    }
   ],
   "source": [
    "installment_payments = pd.read_csv(\"installments_payments.csv\")\n",
    "print(installment_payments.columns)\n",
    "print(installment_payments.shape)"
   ]
  },
  {
   "cell_type": "code",
   "execution_count": 19,
   "metadata": {},
   "outputs": [
    {
     "name": "stdout",
     "output_type": "stream",
     "text": [
      "Index(['SK_ID_PREV', 'SK_ID_CURR', 'MONTHS_BALANCE', 'CNT_INSTALMENT',\n",
      "       'CNT_INSTALMENT_FUTURE', 'NAME_CONTRACT_STATUS', 'SK_DPD',\n",
      "       'SK_DPD_DEF'],\n",
      "      dtype='object')\n",
      "(10001358, 8)\n"
     ]
    }
   ],
   "source": [
    "posCashBal = pd.read_csv(\"POS_CASH_balance.csv\")\n",
    "print(posCashBal.columns)\n",
    "print(posCashBal.shape)"
   ]
  },
  {
   "cell_type": "code",
   "execution_count": 26,
   "metadata": {},
   "outputs": [
    {
     "name": "stdout",
     "output_type": "stream",
     "text": [
      "(1670214, 37)\n",
      "Index(['SK_ID_PREV', 'SK_ID_CURR', 'NAME_CONTRACT_TYPE', 'AMT_ANNUITY',\n",
      "       'AMT_APPLICATION', 'AMT_CREDIT', 'AMT_DOWN_PAYMENT', 'AMT_GOODS_PRICE',\n",
      "       'WEEKDAY_APPR_PROCESS_START', 'HOUR_APPR_PROCESS_START',\n",
      "       'FLAG_LAST_APPL_PER_CONTRACT', 'NFLAG_LAST_APPL_IN_DAY',\n",
      "       'RATE_DOWN_PAYMENT', 'RATE_INTEREST_PRIMARY',\n",
      "       'RATE_INTEREST_PRIVILEGED', 'NAME_CASH_LOAN_PURPOSE',\n",
      "       'NAME_CONTRACT_STATUS', 'DAYS_DECISION', 'NAME_PAYMENT_TYPE',\n",
      "       'CODE_REJECT_REASON', 'NAME_TYPE_SUITE', 'NAME_CLIENT_TYPE',\n",
      "       'NAME_GOODS_CATEGORY', 'NAME_PORTFOLIO', 'NAME_PRODUCT_TYPE',\n",
      "       'CHANNEL_TYPE', 'SELLERPLACE_AREA', 'NAME_SELLER_INDUSTRY',\n",
      "       'CNT_PAYMENT', 'NAME_YIELD_GROUP', 'PRODUCT_COMBINATION',\n",
      "       'DAYS_FIRST_DRAWING', 'DAYS_FIRST_DUE', 'DAYS_LAST_DUE_1ST_VERSION',\n",
      "       'DAYS_LAST_DUE', 'DAYS_TERMINATION', 'NFLAG_INSURED_ON_APPROVAL'],\n",
      "      dtype='object')\n",
      "AMT_ANNUITY   22.286665062081866\n",
      "AMT_CREDIT   5.9872567227912114e-05\n",
      "AMT_DOWN_PAYMENT   46.363519884278304\n",
      "AMT_GOODS_PRICE   23.08177275486854\n",
      "RATE_DOWN_PAYMENT   46.363519884278304\n",
      "RATE_INTEREST_PRIMARY   0.35630164757330496\n",
      "RATE_INTEREST_PRIVILEGED   0.35630164757330496\n"
     ]
    },
    {
     "name": "stderr",
     "output_type": "stream",
     "text": [
      "/var/folders/8g/y90dcmtn1t39t7rwgnkvjspm0000gn/T/ipykernel_51759/441476002.py:8: FutureWarning: Series.__getitem__ treating keys as positions is deprecated. In a future version, integer keys will always be treated as labels (consistent with DataFrame behavior). To access a value by position, use `ser.iloc[pos]`\n",
      "  print(_,\" \", (previousApplication[_].isna().value_counts()[1]/previousApplication.shape[0])*100)\n"
     ]
    },
    {
     "name": "stdout",
     "output_type": "stream",
     "text": [
      "NAME_TYPE_SUITE   49.11975351661524\n",
      "CNT_PAYMENT   22.286365699245724\n",
      "PRODUCT_COMBINATION   0.02071590826085759\n",
      "DAYS_FIRST_DRAWING   40.29812946125467\n",
      "DAYS_FIRST_DUE   40.29812946125467\n",
      "DAYS_LAST_DUE_1ST_VERSION   40.29812946125467\n",
      "DAYS_LAST_DUE   40.29812946125467\n",
      "DAYS_TERMINATION   40.29812946125467\n",
      "NFLAG_INSURED_ON_APPROVAL   40.29812946125467\n",
      "Number of Columns having NAN value is:  16\n"
     ]
    }
   ],
   "source": [
    "previousApplication = pd.read_csv(\"previous_application.csv\")\n",
    "print(previousApplication.shape)\n",
    "print(previousApplication.columns)\n",
    "count = 0\n",
    "for _ in previousApplication.columns:\n",
    "    if previousApplication[_].isna().value_counts().shape[0] > 1:\n",
    "        count = count + 1\n",
    "        print(_,\" \", (previousApplication[_].isna().value_counts()[1]/previousApplication.shape[0])*100)\n",
    "\n",
    "print(\"Number of Columns having NAN value is: \", count)"
   ]
  },
  {
   "cell_type": "code",
   "execution_count": 27,
   "metadata": {},
   "outputs": [
    {
     "name": "stdout",
     "output_type": "stream",
     "text": [
      "1670214\n",
      "338857\n"
     ]
    }
   ],
   "source": [
    "print(previousApplication[\"SK_ID_PREV\"].nunique())\n",
    "print(previousApplication[\"SK_ID_CURR\"].nunique())"
   ]
  },
  {
   "cell_type": "code",
   "execution_count": null,
   "metadata": {},
   "outputs": [],
   "source": []
  }
 ],
 "metadata": {
  "kernelspec": {
   "display_name": "Python 3",
   "language": "python",
   "name": "python3"
  },
  "language_info": {
   "codemirror_mode": {
    "name": "ipython",
    "version": 3
   },
   "file_extension": ".py",
   "mimetype": "text/x-python",
   "name": "python",
   "nbconvert_exporter": "python",
   "pygments_lexer": "ipython3",
   "version": "3.12.5"
  }
 },
 "nbformat": 4,
 "nbformat_minor": 2
}
