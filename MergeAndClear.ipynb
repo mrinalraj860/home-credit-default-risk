{
 "cells": [
  {
   "cell_type": "code",
   "execution_count": 1,
   "metadata": {},
   "outputs": [],
   "source": [
    "import pandas as pd\n",
    "\n",
    "# Load the main datasets\n",
    "application_train = pd.read_csv(\"application_train.csv\")\n",
    "application_test = pd.read_csv(\"application_test.csv\")\n",
    "\n",
    "# Combine train and test datasets for consistent processing\n",
    "application = pd.concat([application_train, application_test], axis=0)\n",
    "\n",
    "# Load additional datasets\n",
    "bureau = pd.read_csv(\"bureau.csv\")\n",
    "bureau_balance = pd.read_csv(\"bureau_balance.csv\")\n",
    "pos_cash_balance = pd.read_csv(\"POS_CASH_balance.csv\")\n",
    "credit_card_balance = pd.read_csv(\"credit_card_balance.csv\")\n",
    "previous_application = pd.read_csv(\"previous_application.csv\")\n",
    "installments_payments = pd.read_csv(\"installments_payments.csv\")\n"
   ]
  },
  {
   "cell_type": "code",
   "execution_count": 2,
   "metadata": {},
   "outputs": [],
   "source": [
    "\n",
    "# Merge bureau_balance with bureau\n",
    "bureau = bureau.merge(bureau_balance, on=\"SK_ID_BUREAU\", how=\"left\")\n",
    "\n"
   ]
  },
  {
   "cell_type": "code",
   "execution_count": 3,
   "metadata": {},
   "outputs": [
    {
     "ename": "",
     "evalue": "",
     "output_type": "error",
     "traceback": [
      "\u001b[1;31mThe Kernel crashed while executing code in the current cell or a previous cell. \n",
      "\u001b[1;31mPlease review the code in the cell(s) to identify a possible cause of the failure. \n",
      "\u001b[1;31mClick <a href='https://aka.ms/vscodeJupyterKernelCrash'>here</a> for more info. \n",
      "\u001b[1;31mView Jupyter <a href='command:jupyter.viewOutput'>log</a> for further details."
     ]
    }
   ],
   "source": [
    "# Merge bureau with application\n",
    "application = application.merge(bureau, on=\"SK_ID_CURR\", how=\"left\")\n",
    "\n"
   ]
  },
  {
   "cell_type": "code",
   "execution_count": null,
   "metadata": {},
   "outputs": [],
   "source": [
    "# Merge POS_CASH_balance with application\n",
    "application = application.merge(pos_cash_balance, on=\"SK_ID_CURR\", how=\"left\")\n"
   ]
  },
  {
   "cell_type": "code",
   "execution_count": null,
   "metadata": {},
   "outputs": [],
   "source": [
    "\n",
    "# Merge credit_card_balance with application\n",
    "application = application.merge(credit_card_balance, on=\"SK_ID_CURR\", how=\"left\")\n"
   ]
  },
  {
   "cell_type": "code",
   "execution_count": null,
   "metadata": {},
   "outputs": [],
   "source": [
    "\n",
    "# Merge previous_application with application\n",
    "application = application.merge(previous_application, on=\"SK_ID_CURR\", how=\"left\")\n"
   ]
  },
  {
   "cell_type": "code",
   "execution_count": null,
   "metadata": {},
   "outputs": [],
   "source": []
  }
 ],
 "metadata": {
  "kernelspec": {
   "display_name": "Python 3",
   "language": "python",
   "name": "python3"
  },
  "language_info": {
   "codemirror_mode": {
    "name": "ipython",
    "version": 3
   },
   "file_extension": ".py",
   "mimetype": "text/x-python",
   "name": "python",
   "nbconvert_exporter": "python",
   "pygments_lexer": "ipython3",
   "version": "3.12.5"
  }
 },
 "nbformat": 4,
 "nbformat_minor": 2
}
